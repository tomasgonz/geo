{
 "cells": [
  {
   "cell_type": "code",
   "execution_count": 1,
   "id": "f5451af5",
   "metadata": {},
   "outputs": [
    {
     "ename": "FileNotFoundError",
     "evalue": "[Errno 2] No such file or directory: 'C:\\\\Users\\\\tomas.gonzalez\\\\geodatascrapper2/geo/cache/countries.json'",
     "output_type": "error",
     "traceback": [
      "\u001b[1;31m---------------------------------------------------------------------\u001b[0m",
      "\u001b[1;31mFileNotFoundError\u001b[0m                   Traceback (most recent call last)",
      "Cell \u001b[1;32mIn [1], line 3\u001b[0m\n\u001b[0;32m      1\u001b[0m \u001b[38;5;28;01mfrom\u001b[39;00m \u001b[38;5;21;01mcountries\u001b[39;00m \u001b[38;5;28;01mimport\u001b[39;00m Countries\n\u001b[0;32m      2\u001b[0m c \u001b[38;5;241m=\u001b[39m Countries()\n\u001b[1;32m----> 3\u001b[0m \u001b[43mc\u001b[49m\u001b[38;5;241;43m.\u001b[39;49m\u001b[43mload_wb\u001b[49m\u001b[43m(\u001b[49m\u001b[43m)\u001b[49m\n",
      "File \u001b[1;32m~\\geo\\countries.py:263\u001b[0m, in \u001b[0;36mCountries.load_wb\u001b[1;34m(self)\u001b[0m\n\u001b[0;32m    261\u001b[0m p \u001b[38;5;241m=\u001b[39m get_file_path(file_name)\n\u001b[0;32m    262\u001b[0m \u001b[38;5;28;01mif\u001b[39;00m check_cache(p) \u001b[38;5;241m==\u001b[39m \u001b[38;5;28;01mFalse\u001b[39;00m:\n\u001b[1;32m--> 263\u001b[0m \t\u001b[43mretrieve_and_cache\u001b[49m\u001b[43m(\u001b[49m\u001b[43mname\u001b[49m\u001b[38;5;241;43m=\u001b[39;49m\u001b[43mfile_name\u001b[49m\u001b[43m)\u001b[49m\t\n\u001b[0;32m    264\u001b[0m \u001b[38;5;28;01melse\u001b[39;00m:\n\u001b[0;32m    265\u001b[0m \tcheck_age(file_name)    \t\n",
      "File \u001b[1;32m~\\geo\\cache.py:43\u001b[0m, in \u001b[0;36mretrieve_and_cache\u001b[1;34m(name)\u001b[0m\n\u001b[0;32m     40\u001b[0m data \u001b[38;5;241m=\u001b[39m json\u001b[38;5;241m.\u001b[39mloads(response\u001b[38;5;241m.\u001b[39mread()\u001b[38;5;241m.\u001b[39mdecode(codec))\n\u001b[0;32m     42\u001b[0m f \u001b[38;5;241m=\u001b[39m get_file_path(name)\n\u001b[1;32m---> 43\u001b[0m \u001b[43mwrite_cache\u001b[49m\u001b[43m(\u001b[49m\u001b[43mdata\u001b[49m\u001b[43m,\u001b[49m\u001b[43m \u001b[49m\u001b[43mf\u001b[49m\u001b[43m)\u001b[49m\n",
      "File \u001b[1;32m~\\geo\\cache.py:24\u001b[0m, in \u001b[0;36mwrite_cache\u001b[1;34m(data, file_path)\u001b[0m\n\u001b[0;32m     23\u001b[0m \u001b[38;5;28;01mdef\u001b[39;00m \u001b[38;5;21mwrite_cache\u001b[39m(data, file_path):\n\u001b[1;32m---> 24\u001b[0m     \u001b[38;5;28;01mwith\u001b[39;00m \u001b[38;5;28;43mopen\u001b[39;49m\u001b[43m(\u001b[49m\u001b[43mfile_path\u001b[49m\u001b[43m,\u001b[49m\u001b[43m \u001b[49m\u001b[38;5;124;43m'\u001b[39;49m\u001b[38;5;124;43mw\u001b[39;49m\u001b[38;5;124;43m'\u001b[39;49m\u001b[43m)\u001b[49m \u001b[38;5;28;01mas\u001b[39;00m outfile:\n\u001b[0;32m     25\u001b[0m         json\u001b[38;5;241m.\u001b[39mdump(data, outfile)\n\u001b[0;32m     26\u001b[0m         outfile\u001b[38;5;241m.\u001b[39mclose()\n",
      "\u001b[1;31mFileNotFoundError\u001b[0m: [Errno 2] No such file or directory: 'C:\\\\Users\\\\tomas.gonzalez\\\\geodatascrapper2/geo/cache/countries.json'"
     ]
    }
   ],
   "source": [
    "from countries import Countries\n",
    "c = Countries()\n",
    "c.load_wb()"
   ]
  },
  {
   "cell_type": "code",
   "execution_count": null,
   "id": "ee804a9d",
   "metadata": {},
   "outputs": [],
   "source": []
  }
 ],
 "metadata": {
  "kernelspec": {
   "display_name": "geo",
   "language": "python",
   "name": "geo"
  },
  "language_info": {
   "codemirror_mode": {
    "name": "ipython",
    "version": 3
   },
   "file_extension": ".py",
   "mimetype": "text/x-python",
   "name": "python",
   "nbconvert_exporter": "python",
   "pygments_lexer": "ipython3",
   "version": "3.10.7"
  }
 },
 "nbformat": 4,
 "nbformat_minor": 5
}
