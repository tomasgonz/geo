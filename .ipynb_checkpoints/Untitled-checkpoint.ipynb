{
 "cells": [
  {
   "cell_type": "code",
   "execution_count": 1,
   "id": "f5124036",
   "metadata": {},
   "outputs": [],
   "source": [
    "from countries import Countries\n",
    "import pandas as pd\n",
    "c = Countries()\n",
    "c.load_wb()"
   ]
  },
  {
   "cell_type": "code",
   "execution_count": 5,
   "id": "6d3cd651",
   "metadata": {},
   "outputs": [
    {
     "data": {
      "text/plain": [
       "['Afghanistan',\n",
       " 'Angola',\n",
       " 'Burundi',\n",
       " 'Benin',\n",
       " 'Burkina Faso',\n",
       " 'Bangladesh',\n",
       " 'Bhutan',\n",
       " 'Central African Republic',\n",
       " 'Congo, Dem. Rep.',\n",
       " 'Comoros',\n",
       " 'Djibouti',\n",
       " 'Eritrea',\n",
       " 'Ethiopia',\n",
       " 'Guinea',\n",
       " 'Gambia, The',\n",
       " 'Guinea-Bissau',\n",
       " 'Haiti',\n",
       " 'Cambodia',\n",
       " 'Kiribati',\n",
       " 'Lao PDR',\n",
       " 'Liberia',\n",
       " 'Lesotho',\n",
       " 'Madagascar',\n",
       " 'Mali',\n",
       " 'Myanmar',\n",
       " 'Mozambique',\n",
       " 'Mauritania',\n",
       " 'Malawi',\n",
       " 'Niger',\n",
       " 'Nepal',\n",
       " 'Rwanda',\n",
       " 'Sudan',\n",
       " 'Senegal',\n",
       " 'Solomon Islands',\n",
       " 'Sierra Leone',\n",
       " 'Somalia',\n",
       " 'South Sudan',\n",
       " 'Sao Tome and Principe',\n",
       " 'Chad',\n",
       " 'Togo',\n",
       " 'Timor-Leste',\n",
       " 'Tuvalu',\n",
       " 'Tanzania',\n",
       " 'Uganda',\n",
       " 'Vanuatu',\n",
       " 'Yemen, Rep.',\n",
       " 'Zambia']"
      ]
     },
     "execution_count": 5,
     "metadata": {},
     "output_type": "execute_result"
    }
   ],
   "source": [
    "c.get_group(\"LDCs\").get_names()"
   ]
  },
  {
   "cell_type": "code",
   "execution_count": null,
   "id": "f0b5c832",
   "metadata": {},
   "outputs": [],
   "source": []
  }
 ],
 "metadata": {
  "kernelspec": {
   "display_name": "geo",
   "language": "python",
   "name": "geo"
  },
  "language_info": {
   "codemirror_mode": {
    "name": "ipython",
    "version": 3
   },
   "file_extension": ".py",
   "mimetype": "text/x-python",
   "name": "python",
   "nbconvert_exporter": "python",
   "pygments_lexer": "ipython3",
   "version": "3.10.7"
  }
 },
 "nbformat": 4,
 "nbformat_minor": 5
}
